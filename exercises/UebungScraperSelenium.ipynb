{
  "nbformat": 4,
  "nbformat_minor": 0,
  "metadata": {
    "colab": {
      "provenance": [],
      "authorship_tag": "ABX9TyOIoa2rIW/ZX04vLbp9hHt1",
      "include_colab_link": true
    },
    "kernelspec": {
      "name": "python3",
      "display_name": "Python 3"
    },
    "language_info": {
      "name": "python"
    }
  },
  "cells": [
    {
      "cell_type": "markdown",
      "metadata": {
        "id": "view-in-github",
        "colab_type": "text"
      },
      "source": [
        "<a href=\"https://colab.research.google.com/github/redadmiral/python-for-journalists/blob/main/exercises/UebungScraperSelenium.ipynb\" target=\"_parent\"><img src=\"https://colab.research.google.com/assets/colab-badge.svg\" alt=\"Open In Colab\"/></a>"
      ]
    },
    {
      "cell_type": "markdown",
      "source": [
        "# Übung: Scraping mit Selenium\n",
        "\n",
        "1. Versuche die Seite https://www.amazon.de mit Python `requests` herunterzuladen. Lass dir den Status Code des Requests ausgeben. Wie interpretierst du den Status Code?\n",
        "\n"
      ],
      "metadata": {
        "id": "tKD4x3crzYTO"
      }
    },
    {
      "cell_type": "code",
      "execution_count": null,
      "metadata": {
        "id": "MG86fY9UzXTI"
      },
      "outputs": [],
      "source": []
    },
    {
      "cell_type": "markdown",
      "source": [
        "Status Code 503 steht für Service Anavailable. Nachdem die Seite über den Browser funktioniert lässt Amazon automatisierte Anfragen nicht zu."
      ],
      "metadata": {
        "id": "TU106WMx0ckV"
      }
    },
    {
      "cell_type": "markdown",
      "source": [
        "2. Installiere die nötigen Abhängigkeiten um Selenium zu benutzen. Orientiere dich dafür an der Anleitung im Video.\n",
        "\n",
        "2.1 Installiere selenium mit `pip` und lade dir die aktuelle Version von Chrome herunter. Installiere das Paket mit `apt`."
      ],
      "metadata": {
        "id": "LqcTSnUE0rQo"
      }
    },
    {
      "cell_type": "code",
      "source": [],
      "metadata": {
        "id": "QlJUaoQA01vM"
      },
      "execution_count": null,
      "outputs": []
    },
    {
      "cell_type": "markdown",
      "source": [
        "2.2 Überprüfe die aktuelle Version von Google Chrome."
      ],
      "metadata": {
        "id": "KrnT2cxO1fBs"
      }
    },
    {
      "cell_type": "code",
      "source": [],
      "metadata": {
        "id": "sBVJLx_R1Nvh"
      },
      "execution_count": null,
      "outputs": []
    },
    {
      "cell_type": "markdown",
      "source": [
        "2.3 Installiere die korrekte Version des Chromedrivers."
      ],
      "metadata": {
        "id": "cR8EnTn21l5c"
      }
    },
    {
      "cell_type": "code",
      "source": [],
      "metadata": {
        "id": "_NMzgdBv1pFS"
      },
      "execution_count": null,
      "outputs": []
    },
    {
      "cell_type": "markdown",
      "source": [
        "2.4 In der folgenden Zelle setzen wir den \"user-agent\" neu.\n",
        "1. Was macht der User-Agent?\n",
        "2. Vergleiche den neu gesetzten User-Agent mit dem Orginalen im Kommentar darunter. Was verändern wir und warum?"
      ],
      "metadata": {
        "id": "1tH9Xsuh1u4e"
      }
    },
    {
      "cell_type": "code",
      "source": [
        "from selenium import webdriver\n",
        "\n",
        "options = webdriver.ChromeOptions()\n",
        "options.add_argument('--headless')\n",
        "options.add_argument('--no-sandbox')\n",
        "options.add_argument('user-agent=Mozilla/5.0 (Windows NT 10.0; Win64; x64) AppleWebKit/537.36 (KHTML, like Gecko) Chrome/68.0.3440.84 Safari/537.36')\n",
        "# original user agent\n",
        "#options.add_argument(\"user-agent=Mozilla/5.0 (X11; Linux x86_64) AppleWebKit/537.36 (KHTML, like Gecko) HeadlessChrome/113.0.5672.126 Safari/537.36\")\n",
        "\n",
        "browser = webdriver.Chrome(executable_path='chromedriver',options=options)"
      ],
      "metadata": {
        "id": "AhRgQr0u10OR"
      },
      "execution_count": 86,
      "outputs": []
    },
    {
      "cell_type": "markdown",
      "source": [],
      "metadata": {
        "id": "mDcE-qzcDSwY"
      }
    },
    {
      "cell_type": "markdown",
      "source": [
        "3.1 Rufe die Seite https://www.amazon.de mit Selenium auf. Nutze die `get`-Methode des Browsers."
      ],
      "metadata": {
        "id": "UsoN2E1x2A_c"
      }
    },
    {
      "cell_type": "code",
      "source": [],
      "metadata": {
        "id": "A7hbZF6P2O1P"
      },
      "execution_count": 87,
      "outputs": []
    },
    {
      "cell_type": "code",
      "source": [
        "assert browser.title.startswith(\"Amazon\")"
      ],
      "metadata": {
        "id": "BdGfwp3j2WoH"
      },
      "execution_count": 88,
      "outputs": []
    },
    {
      "cell_type": "markdown",
      "source": [
        "3.2 Speichere einen Screenshot der Startseite von amazon.de unter dem namen `amazon_screenshot.png`."
      ],
      "metadata": {
        "id": "IFUIRrIF2csj"
      }
    },
    {
      "cell_type": "code",
      "source": [],
      "metadata": {
        "colab": {
          "base_uri": "https://localhost:8080/"
        },
        "id": "HTuNpUWv2i5v",
        "outputId": "cf3581f1-8c1d-40ec-e8e2-b406a11ed0a5"
      },
      "execution_count": 89,
      "outputs": [
        {
          "output_type": "execute_result",
          "data": {
            "text/plain": [
              "True"
            ]
          },
          "metadata": {},
          "execution_count": 89
        }
      ]
    },
    {
      "cell_type": "code",
      "source": [
        "import os\n",
        "\n",
        "assert os.path.isfile(\"amazon_screenshot.png\")\n",
        "assert os.path.getsize(\"amazon_screenshot.png\") > 1000"
      ],
      "metadata": {
        "id": "QeH1G1pn2n2u"
      },
      "execution_count": 90,
      "outputs": []
    },
    {
      "cell_type": "markdown",
      "source": [
        "Exkurs: Manchmal poppt hier das Cookie-Bannera auf. Wähle in dem Fall den Accept Button mit der ID `sp-cc-accept` aus. Speichere ihn in der Variable `accept` und wähle die `click()`-Methode aus um das Banner zu bestätigen. "
      ],
      "metadata": {
        "id": "Yrsq594I57rr"
      }
    },
    {
      "cell_type": "code",
      "source": [],
      "metadata": {
        "id": "EnnExlWB5ZWQ"
      },
      "execution_count": 91,
      "outputs": []
    },
    {
      "cell_type": "code",
      "source": [
        "browser.save_screenshot(\"amazon_screenshot_after_cookie.png\")"
      ],
      "metadata": {
        "colab": {
          "base_uri": "https://localhost:8080/"
        },
        "id": "AX5qQkqd5wRo",
        "outputId": "0896ac6f-df26-4c4f-ab0e-cfc46667c66a"
      },
      "execution_count": 92,
      "outputs": [
        {
          "output_type": "execute_result",
          "data": {
            "text/plain": [
              "True"
            ]
          },
          "metadata": {},
          "execution_count": 92
        }
      ]
    },
    {
      "cell_type": "markdown",
      "source": [
        "3.3 Wähle das Suchfeld aus und speichere es in der Variable `search_bar`."
      ],
      "metadata": {
        "id": "7XQG3gO42nls"
      }
    },
    {
      "cell_type": "code",
      "source": [],
      "metadata": {
        "id": "T7GeLNOm3GK3"
      },
      "execution_count": 93,
      "outputs": []
    },
    {
      "cell_type": "code",
      "source": [
        "assert search_bar.text == \"\""
      ],
      "metadata": {
        "id": "bFgWXHye3u6w"
      },
      "execution_count": 94,
      "outputs": []
    },
    {
      "cell_type": "markdown",
      "source": [
        "3.4 Trage das Wort \"Hundefutter\" in die Suchleiste ein."
      ],
      "metadata": {
        "id": "R903cPos4L76"
      }
    },
    {
      "cell_type": "code",
      "source": [],
      "metadata": {
        "id": "xP5FXC2p4hYv"
      },
      "execution_count": 95,
      "outputs": []
    },
    {
      "cell_type": "code",
      "source": [
        "browser.save_screenshot(\"search_bar_filled.png\")"
      ],
      "metadata": {
        "colab": {
          "base_uri": "https://localhost:8080/"
        },
        "id": "XCoQ9ETT4qPK",
        "outputId": "2340174e-4060-418a-b088-2e71317a1ecd"
      },
      "execution_count": 96,
      "outputs": [
        {
          "output_type": "execute_result",
          "data": {
            "text/plain": [
              "True"
            ]
          },
          "metadata": {},
          "execution_count": 96
        }
      ]
    },
    {
      "cell_type": "markdown",
      "source": [
        "3.5 Führe die Suche aus. Wähle dazu das Suchfeld mit der Lupe aus und führe die `click()`-Methode aus."
      ],
      "metadata": {
        "id": "LpEbrOHT6W_r"
      }
    },
    {
      "cell_type": "code",
      "source": [],
      "metadata": {
        "id": "-04rjkT36v6R"
      },
      "execution_count": 97,
      "outputs": []
    },
    {
      "cell_type": "code",
      "source": [
        "browser.save_screenshot(\"search_result.png\")\n",
        "#Falls die Seite hier eine Fehlermeldung anzeigt ist das nicht weiter schlimm."
      ],
      "metadata": {
        "id": "lpDxi9Wk620U"
      },
      "execution_count": null,
      "outputs": []
    },
    {
      "cell_type": "markdown",
      "source": [
        "3.6 Du kannst die Suche auch mit der Return (oder Enter)-Taste auslösen. Wie würdest du das mit Selenium machen? Nutze eine Suchmaschine deiner Wahl um die Lösung zu finden.\n",
        "\n",
        "Wenn du oben eine Fehlermeldung von amazon bekommen hast, führe die Zellen neu aus, weil auf der aktuellen Seite in `browser` kein Suchfeld mehr vorhanden ist."
      ],
      "metadata": {
        "id": "ozh4ZYWnA8bY"
      }
    }
  ]
}