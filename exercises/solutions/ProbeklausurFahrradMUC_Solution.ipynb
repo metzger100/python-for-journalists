{
  "nbformat": 4,
  "nbformat_minor": 0,
  "metadata": {
    "colab": {
      "provenance": [],
      "authorship_tag": "ABX9TyPxTVy35AFOlJLNTkUOJRiM",
      "include_colab_link": true
    },
    "kernelspec": {
      "name": "python3",
      "display_name": "Python 3"
    },
    "language_info": {
      "name": "python"
    }
  },
  "cells": [
    {
      "cell_type": "markdown",
      "metadata": {
        "id": "view-in-github",
        "colab_type": "text"
      },
      "source": [
        "<a href=\"https://colab.research.google.com/github/redadmiral/python-for-journalists/blob/main/exercises/solutions/ProbeklausurFahrradMUC_Solution.ipynb\" target=\"_parent\"><img src=\"https://colab.research.google.com/assets/colab-badge.svg\" alt=\"Open In Colab\"/></a>"
      ]
    },
    {
      "cell_type": "markdown",
      "source": [
        "# Datenanalyse\n",
        "\n",
        "Unter der URL https://opendata.muenchen.de/dataset/022a11ff-4dcb-4f03-b7dd-a6c94a094587/resource/e65e0e26-ce1f-4e58-9260-beccac196e75/download/rad_2022_15min_export_04_02_23_r.csv stellt die Stadt München einen Datensatz mit Messdaten der Fahrradzähler in der Stadt zur Verfügung.\n",
        "\n",
        "Eine kurze Beschreibung des Datensatzes findest du hier: https://opendata.muenchen.de/dataset/daten-der-raddauerzaehlstellen-muenchen-jahreszahlen/resource/e65e0e26-ce1f-4e58-9260-beccac196e75\n",
        "\n",
        "## 1.1 Exploration\n",
        "\n",
        "Lade den Datensatz in eine Variable und beschreibe die Struktur des Datensatzes in eigenen Worten. Gehe dabei auf die Bedeutung der Spalten auf und führe kurz aus, was der Datensatz abbildet. Belege deine Aussagen soweit möglich indem du das Ergebnis mit `pandas` aus dem Datensatz selbst ziehst."
      ],
      "metadata": {
        "id": "Mvr0Vf2STQzl"
      }
    },
    {
      "cell_type": "code",
      "execution_count": null,
      "metadata": {
        "id": "Kmoh4bPfu_i1"
      },
      "outputs": [],
      "source": [
        "import pandas as pd\n",
        "\n",
        "bikes = pd.read_csv(\"https://opendata.muenchen.de/dataset/022a11ff-4dcb-4f03-b7dd-a6c94a094587/resource/e65e0e26-ce1f-4e58-9260-beccac196e75/download/rad_2022_15min_export_04_02_23_r.csv\")"
      ]
    },
    {
      "cell_type": "code",
      "source": [
        "len(bikes)"
      ],
      "metadata": {
        "id": "SXT6ioAihKBB"
      },
      "execution_count": null,
      "outputs": []
    },
    {
      "cell_type": "code",
      "source": [
        "bikes[\"zaehlstelle\"].unique()"
      ],
      "metadata": {
        "id": "R7cgta7PhQ4d"
      },
      "execution_count": null,
      "outputs": []
    },
    {
      "cell_type": "code",
      "source": [
        "bikes[\"richtung_1\"].sum() + bikes[\"richtung_2\"].sum() == bikes[\"gesamt\"].sum()"
      ],
      "metadata": {
        "id": "YT8tyeM-iXYY"
      },
      "execution_count": null,
      "outputs": []
    },
    {
      "cell_type": "markdown",
      "source": [
        "Der Datensatz zeigt wie viele Radfahrer\\*innen in 15 Minuten-Intervallen eine der insgesamt 6 Messstationen in München passiert haben. Der Datensatz hat 210.240 Einträge, die sich auf die sechs Messstationen 'Arnulf', 'Kreuther', 'Olympia', 'Hirsch', 'Margareten', 'Erhardt' aufteilen.\n",
        "\n",
        "Die Spalten uhrzeit_start und uhrzeit_ende bezeichnen Start und Ende eines Messintervalls, zaehlstelle den Namen der Messstation. richtung_1 und richtung_2 geben die Fahrtrichtung der Radfahrenden an, gesamt die Summe aus richtung_1 und richtung_2"
      ],
      "metadata": {
        "id": "s3XGkgG1hHnV"
      }
    },
    {
      "cell_type": "markdown",
      "source": [
        "## 1.2 Rush Hour\n",
        "\n",
        "Was ist die maximale Zahl an Radfahrern (egal in welche Richtung), die eine Messstation in einem Messintervall erfasst hat?"
      ],
      "metadata": {
        "id": "2hqKNi4rivFP"
      }
    },
    {
      "cell_type": "code",
      "source": [
        "bikes[\"gesamt\"].max()"
      ],
      "metadata": {
        "id": "F6mZLVr1j5s5"
      },
      "execution_count": null,
      "outputs": []
    },
    {
      "cell_type": "markdown",
      "source": [
        "## 1.3 Aktivste Station\n",
        "\n",
        "Welche Station hat über das gesamte Jahr 2022 die meisten Fahrräder gemessen? Wie viele Fahrräder waren das?"
      ],
      "metadata": {
        "id": "YjuyOaaxkI33"
      }
    },
    {
      "cell_type": "code",
      "source": [
        "bikes_time = bikes.groupby(\"zaehlstelle\")[\"gesamt\"].sum()\n",
        "bikes_time"
      ],
      "metadata": {
        "id": "OLiDPXOrvIdN"
      },
      "execution_count": null,
      "outputs": []
    },
    {
      "cell_type": "markdown",
      "source": [
        "## 1.4 Jahresüberblick\n",
        "\n",
        "Erstelle ein Liniendiagramm mit Datawrapper aus dem die Gesamtzahl der Fahrräder nach Station und Tag ablesbar ist.\n",
        "\n",
        "Gib der Grafik einen sinnvollen Titel und fülle alle Quellen aus. Kopiere den Link zur veröffentlichten (!) Grafik in das Feld unten und füge einen Screenshot der Grafik mit ein."
      ],
      "metadata": {
        "id": "HkNd2aAEkX0n"
      }
    },
    {
      "cell_type": "code",
      "source": [
        "bikes_station = bikes.groupby([\"zaehlstelle\", \"datum\"]).sum()\n",
        "bikes_station = bikes_station.unstack()[\"gesamt\"]\n",
        "bikes_station.to_csv(\"bikesstation.csv\")\n",
        "\n",
        "#https://datawrapper.dwcdn.net/IRwYS/1/"
      ],
      "metadata": {
        "id": "6pwgAksE952c"
      },
      "execution_count": null,
      "outputs": []
    },
    {
      "cell_type": "markdown",
      "source": [
        "## 1.5 Stonks\n",
        "\n",
        "Der Graph sieht sehr zittrig und unübersichtlich aus. Wie kannst du den Datensatz aggregieren, um ihn besser lesbar zu machen?\n",
        "\n",
        "Beschreibe deine Idee in eigenen Worten, du musst sie nicht implementieren, auch wenn das natürlich eine gute Übung ist."
      ],
      "metadata": {
        "id": "_OUK6Er8mL44"
      }
    },
    {
      "cell_type": "markdown",
      "source": [],
      "metadata": {
        "id": "aEsq6Cr1mXYB"
      }
    },
    {
      "cell_type": "code",
      "source": [
        "bikes_station_week = bikes\n",
        "bikes_station_week[\"datum\"] = pd.to_datetime(bikes[\"datum\"])\n",
        "bikes_station_week = bikes_station_week.set_index(\"datum\")\n",
        "bikes_station_week = bikes_station_week.groupby(\"zaehlstelle\").resample(rule='W').mean(numeric_only=True)[\"gesamt\"].unstack()\n",
        "bikes_station_week.to_csv(\"bikesstationweek.csv\")"
      ],
      "metadata": {
        "id": "pkO_Q8j2BYuU"
      },
      "execution_count": null,
      "outputs": []
    },
    {
      "cell_type": "code",
      "source": [
        "stations = pd.read_csv(\"https://opendata.muenchen.de/dataset/aca4bcb6-d0ff-4634-b5b9-8b5d133ab08e/resource/211e882d-fadd-468a-bf8a-0014ae65a393/download/radzaehlstellen.csv\")\n",
        "stations = stations.join(bikes.set_index(\"zaehlstelle\"), on=\"zaehlstelle\", lsuffix=\"_left\")\n",
        "stations = stations.groupby(\"zaehlstelle\").mean()[[\"gesamt\", \"latitude\", \"longitude\"]]\n",
        "stations.to_csv(\"meanstations.csv\")\n",
        "\n",
        "#https://datawrapper.dwcdn.net/TFQq7/1/\n"
      ],
      "metadata": {
        "colab": {
          "base_uri": "https://localhost:8080/"
        },
        "id": "yvP83Z95JNW9",
        "outputId": "bb05eb2a-117a-48c6-f02e-a76fb2a39615"
      },
      "execution_count": null,
      "outputs": [
        {
          "output_type": "stream",
          "name": "stderr",
          "text": [
            "<ipython-input-9-e9620f55b906>:3: FutureWarning: The default value of numeric_only in DataFrameGroupBy.mean is deprecated. In a future version, numeric_only will default to False. Either specify numeric_only or select only columns which should be valid for the function.\n",
            "  stations = stations.groupby(\"zaehlstelle\").mean()[[\"gesamt\", \"latitude\", \"longitude\"]]\n"
          ]
        }
      ]
    },
    {
      "cell_type": "markdown",
      "source": [
        "# Scraper\n",
        "\n",
        "Auf der Seite https://www.km.bayern.de/eltern/schulsuche.html?s=&t=9999&r=9999&o=9999&u=0&m=3&seite=1 stellt das bayerische Kultusministerium eine Suchfunktion bereit, um nach Schulen zu suchen.\n",
        "\n",
        "Scrape die ersten drei Seiten der Suche und extrahiere alle Adressen der Schulen. Speichere diese als Strings ohne HTML-Fragmente in einer Liste ab.\n",
        "\n",
        "Nutze für das Scraping die Bibliotheken `bs4` und `requests`."
      ],
      "metadata": {
        "id": "n7ubyIAuTOT2"
      }
    },
    {
      "cell_type": "code",
      "source": [
        "import requests\n",
        "from bs4 import BeautifulSoup\n",
        "from time import sleep"
      ],
      "metadata": {
        "id": "Jeds-l0FSkKL"
      },
      "execution_count": null,
      "outputs": []
    },
    {
      "cell_type": "code",
      "source": [
        "base_url = \"https://www.km.bayern.de\"\n",
        "\n",
        "result = []\n",
        "\n",
        "def parse_line(soup):\n",
        "  name = soup.find(\"a\").text\n",
        "  link = base_url + soup.find(\"a\")[\"href\"]\n",
        "  address = soup.find(\"span\", {\"class\": \"Right\"}).get_text(separator=\", \")\n",
        "  return address\n",
        "\n",
        "for i in range(1, 4):\n",
        "  print(f\"Parsing page {i}\")\n",
        "  response = requests.get(f\"https://www.km.bayern.de/eltern/schulsuche.html?s=&t=9999&r=9999&o=9999&u=0&m=3&seite={i}\")\n",
        "  soup = BeautifulSoup(response.content.decode(), \"html.parser\")\n",
        "\n",
        "  school_list = soup.find(\"ul\", {\"class\": \"ListSchools\"})\n",
        "\n",
        "  schools = school_list.findAll(\"li\")\n",
        "\n",
        "  for line in schools:\n",
        "    result.append(parse_line(line))\n",
        "\n",
        "  sleep(1)\n",
        "\n",
        "result"
      ],
      "metadata": {
        "id": "4CfPAjJFfEzW"
      },
      "execution_count": null,
      "outputs": []
    }
  ]
}