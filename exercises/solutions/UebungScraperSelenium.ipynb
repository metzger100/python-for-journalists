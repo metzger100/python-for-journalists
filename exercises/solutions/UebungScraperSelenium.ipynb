{
  "nbformat": 4,
  "nbformat_minor": 0,
  "metadata": {
    "colab": {
      "provenance": [],
      "authorship_tag": "ABX9TyMJuMnVp+JNqkpaf6ilGU+w",
      "include_colab_link": true
    },
    "kernelspec": {
      "name": "python3",
      "display_name": "Python 3"
    },
    "language_info": {
      "name": "python"
    }
  },
  "cells": [
    {
      "cell_type": "markdown",
      "metadata": {
        "id": "view-in-github",
        "colab_type": "text"
      },
      "source": [
        "<a href=\"https://colab.research.google.com/github/redadmiral/python-for-journalists/blob/main/exercises/solutions/UebungScraperSelenium.ipynb\" target=\"_parent\"><img src=\"https://colab.research.google.com/assets/colab-badge.svg\" alt=\"Open In Colab\"/></a>"
      ]
    },
    {
      "cell_type": "markdown",
      "source": [
        "# Übung: Scraping mit Selenium\n",
        "\n",
        "1. Versuche die Seite https://www.amazon.de mit Python `requests` herunterzuladen. Lass dir den Status Code des Requests ausgeben. Wie interpretierst du den Status Code?\n",
        "\n"
      ],
      "metadata": {
        "id": "tKD4x3crzYTO"
      }
    },
    {
      "cell_type": "code",
      "execution_count": 1,
      "metadata": {
        "colab": {
          "base_uri": "https://localhost:8080/"
        },
        "id": "MG86fY9UzXTI",
        "outputId": "0ec6e94e-ebd3-485c-d1b3-1a7737fcebca"
      },
      "outputs": [
        {
          "output_type": "execute_result",
          "data": {
            "text/plain": [
              "<Response [503]>"
            ]
          },
          "metadata": {},
          "execution_count": 1
        }
      ],
      "source": [
        "import requests\n",
        "\n",
        "requests.get(\"https://www.amazon.de\")"
      ]
    },
    {
      "cell_type": "markdown",
      "source": [
        "Status Code 503 steht für Service Anavailable. Nachdem die Seite über den Browser funktioniert lässt Amazon automatisierte Anfragen nicht zu."
      ],
      "metadata": {
        "id": "TU106WMx0ckV"
      }
    },
    {
      "cell_type": "markdown",
      "source": [
        "2. Installiere die nötigen Abhängigkeiten um Selenium zu benutzen. Orientiere dich dafür an der Anleitung im Video.\n",
        "\n",
        "2.1 Installiere selenium mit `pip` und lade dir die aktuelle Version von Chrome herunter. Installiere das Paket mit `apt`."
      ],
      "metadata": {
        "id": "LqcTSnUE0rQo"
      }
    },
    {
      "cell_type": "code",
      "source": [
        "!pip install selenium\n",
        "!wget https://dl.google.com/linux/direct/google-chrome-stable_current_amd64.deb\n",
        "!apt install ./google-chrome-stable_current_amd64.deb"
      ],
      "metadata": {
        "id": "QlJUaoQA01vM"
      },
      "execution_count": null,
      "outputs": []
    },
    {
      "cell_type": "markdown",
      "source": [
        "2.2 Überprüfe die aktuelle Version von Google Chrome."
      ],
      "metadata": {
        "id": "KrnT2cxO1fBs"
      }
    },
    {
      "cell_type": "code",
      "source": [
        "!google-chrome --version"
      ],
      "metadata": {
        "colab": {
          "base_uri": "https://localhost:8080/"
        },
        "id": "sBVJLx_R1Nvh",
        "outputId": "c2990587-fbc9-4e0e-c4e3-9da2c21d9e92"
      },
      "execution_count": 3,
      "outputs": [
        {
          "output_type": "stream",
          "name": "stdout",
          "text": [
            "Google Chrome 113.0.5672.126 \n"
          ]
        }
      ]
    },
    {
      "cell_type": "markdown",
      "source": [
        "2.3 Installiere die korrekte Version des Chromedrivers."
      ],
      "metadata": {
        "id": "cR8EnTn21l5c"
      }
    },
    {
      "cell_type": "code",
      "source": [
        "!wget https://chromedriver.storage.googleapis.com/110.0.5481.77/chromedriver_linux64.zip\n",
        "!unzip chromedriver_linux64.zip"
      ],
      "metadata": {
        "colab": {
          "base_uri": "https://localhost:8080/"
        },
        "id": "_NMzgdBv1pFS",
        "outputId": "f7d9f6b2-8051-4630-f4f3-d73e24fbb00c"
      },
      "execution_count": 4,
      "outputs": [
        {
          "output_type": "stream",
          "name": "stdout",
          "text": [
            "--2023-05-29 18:48:00--  https://chromedriver.storage.googleapis.com/110.0.5481.77/chromedriver_linux64.zip\n",
            "Resolving chromedriver.storage.googleapis.com (chromedriver.storage.googleapis.com)... 74.125.204.128, 2404:6800:4008:c04::80\n",
            "Connecting to chromedriver.storage.googleapis.com (chromedriver.storage.googleapis.com)|74.125.204.128|:443... connected.\n",
            "HTTP request sent, awaiting response... 200 OK\n",
            "Length: 7396711 (7.1M) [application/zip]\n",
            "Saving to: ‘chromedriver_linux64.zip’\n",
            "\n",
            "chromedriver_linux6 100%[===================>]   7.05M  6.91MB/s    in 1.0s    \n",
            "\n",
            "2023-05-29 18:48:02 (6.91 MB/s) - ‘chromedriver_linux64.zip’ saved [7396711/7396711]\n",
            "\n",
            "Archive:  chromedriver_linux64.zip\n",
            "  inflating: chromedriver            \n",
            "  inflating: LICENSE.chromedriver    \n"
          ]
        }
      ]
    },
    {
      "cell_type": "markdown",
      "source": [
        "2.4 Erstelle eine Variable `browser` in der du eine Instanz von Chrome ablegst. Übergib ihm die Optionen `--headless` und `--no-sandbox`, wie im Video gezeigt."
      ],
      "metadata": {
        "id": "1tH9Xsuh1u4e"
      }
    },
    {
      "cell_type": "code",
      "source": [
        "from selenium import webdriver\n",
        "\n",
        "options = webdriver.ChromeOptions()\n",
        "options.add_argument('--headless')\n",
        "options.add_argument('--no-sandbox')\n",
        "\n",
        "browser = webdriver.Chrome(executable_path='chromedriver',options=options)"
      ],
      "metadata": {
        "id": "AhRgQr0u10OR"
      },
      "execution_count": 65,
      "outputs": []
    },
    {
      "cell_type": "markdown",
      "source": [
        "3.1 Rufe die Seite https://www.amazon.de mit Selenium auf. Nutze die `get`-Methode des Browsers."
      ],
      "metadata": {
        "id": "UsoN2E1x2A_c"
      }
    },
    {
      "cell_type": "code",
      "source": [
        "browser.get(\"https://www.amazon.de\")"
      ],
      "metadata": {
        "id": "A7hbZF6P2O1P"
      },
      "execution_count": 66,
      "outputs": []
    },
    {
      "cell_type": "code",
      "source": [
        "assert browser.title.startswith(\"Amazon\")"
      ],
      "metadata": {
        "id": "BdGfwp3j2WoH"
      },
      "execution_count": 67,
      "outputs": []
    },
    {
      "cell_type": "markdown",
      "source": [
        "3.2 Speichere einen Screenshot der Startseite von amazon.de unter dem namen `amazon_screenshot.png`."
      ],
      "metadata": {
        "id": "IFUIRrIF2csj"
      }
    },
    {
      "cell_type": "code",
      "source": [
        "browser.save_screenshot(\"amazon_screenshot.png\")"
      ],
      "metadata": {
        "colab": {
          "base_uri": "https://localhost:8080/"
        },
        "id": "HTuNpUWv2i5v",
        "outputId": "f3b1bc61-46cc-4edc-94fa-927ba90c394d"
      },
      "execution_count": 68,
      "outputs": [
        {
          "output_type": "execute_result",
          "data": {
            "text/plain": [
              "True"
            ]
          },
          "metadata": {},
          "execution_count": 68
        }
      ]
    },
    {
      "cell_type": "code",
      "source": [
        "import os\n",
        "\n",
        "assert os.path.isfile(\"amazon_screenshot.png\")\n",
        "assert os.path.getsize(\"amazon_screenshot.png\") > 1000"
      ],
      "metadata": {
        "id": "QeH1G1pn2n2u"
      },
      "execution_count": 69,
      "outputs": []
    },
    {
      "cell_type": "markdown",
      "source": [
        "Exkurs: Manchmal poppt hier das Cookie-Bannera auf. Wähle in dem Fall den Accept Button mit der ID `sp-cc-accept` aus. Speichere ihn in der Variable `accept` und wähle die `click()`-Methode aus um das Banner zu bestätigen. "
      ],
      "metadata": {
        "id": "Yrsq594I57rr"
      }
    },
    {
      "cell_type": "code",
      "source": [
        "from selenium.webdriver.common.by import By\n",
        "\n",
        "accept = browser.find_element(By.ID, \"sp-cc-accept\")\n",
        "accept.click()"
      ],
      "metadata": {
        "id": "EnnExlWB5ZWQ"
      },
      "execution_count": 70,
      "outputs": []
    },
    {
      "cell_type": "code",
      "source": [
        "browser.save_screenshot(\"amazon_screenshot_after_cookie.png\")"
      ],
      "metadata": {
        "colab": {
          "base_uri": "https://localhost:8080/"
        },
        "id": "AX5qQkqd5wRo",
        "outputId": "0e96095f-1c85-469f-856f-fd25f8f4332d"
      },
      "execution_count": 71,
      "outputs": [
        {
          "output_type": "execute_result",
          "data": {
            "text/plain": [
              "True"
            ]
          },
          "metadata": {},
          "execution_count": 71
        }
      ]
    },
    {
      "cell_type": "markdown",
      "source": [
        "3.3 Wähle das Suchfeld aus und speichere es in der Variable `search_bar`."
      ],
      "metadata": {
        "id": "7XQG3gO42nls"
      }
    },
    {
      "cell_type": "code",
      "source": [
        "from selenium.webdriver.common.by import By\n",
        "\n",
        "search_bar = browser.find_element(By.ID, \"twotabsearchtextbox\")"
      ],
      "metadata": {
        "id": "T7GeLNOm3GK3"
      },
      "execution_count": 72,
      "outputs": []
    },
    {
      "cell_type": "code",
      "source": [
        "assert search_bar.text == \"\""
      ],
      "metadata": {
        "id": "bFgWXHye3u6w"
      },
      "execution_count": 73,
      "outputs": []
    },
    {
      "cell_type": "markdown",
      "source": [
        "3.4 Trage das Wort \"Hundefutter\" in die Suchleiste ein."
      ],
      "metadata": {
        "id": "R903cPos4L76"
      }
    },
    {
      "cell_type": "code",
      "source": [
        "search_bar.send_keys(\"Hundefutter\")"
      ],
      "metadata": {
        "id": "xP5FXC2p4hYv"
      },
      "execution_count": 74,
      "outputs": []
    },
    {
      "cell_type": "code",
      "source": [
        "browser.save_screenshot(\"search_bar_filled.png\")"
      ],
      "metadata": {
        "colab": {
          "base_uri": "https://localhost:8080/"
        },
        "id": "XCoQ9ETT4qPK",
        "outputId": "c76b3a09-1ae4-4ba6-9069-372b8a50839e"
      },
      "execution_count": 75,
      "outputs": [
        {
          "output_type": "execute_result",
          "data": {
            "text/plain": [
              "True"
            ]
          },
          "metadata": {},
          "execution_count": 75
        }
      ]
    },
    {
      "cell_type": "markdown",
      "source": [
        "3.5 Führe die Suche aus. Das kannst du auf zwei Weisen machen:\n",
        "\n",
        "1. Wähle das Suchfeld mit der Lupe aus und führe die `click()`-Methode aus.\n",
        "2. Importiere "
      ],
      "metadata": {
        "id": "LpEbrOHT6W_r"
      }
    },
    {
      "cell_type": "code",
      "source": [
        "search_button = browser.find_element(By.ID, \"nav-search-submit-button\")\n",
        "search_button.click()"
      ],
      "metadata": {
        "id": "-04rjkT36v6R"
      },
      "execution_count": 76,
      "outputs": []
    },
    {
      "cell_type": "code",
      "source": [
        "browser.save_screenshot(\"search_result.png\")"
      ],
      "metadata": {
        "colab": {
          "base_uri": "https://localhost:8080/"
        },
        "id": "lpDxi9Wk620U",
        "outputId": "9fbd7293-1f9b-4237-e5b6-98c0f82c61db"
      },
      "execution_count": 77,
      "outputs": [
        {
          "output_type": "execute_result",
          "data": {
            "text/plain": [
              "True"
            ]
          },
          "metadata": {},
          "execution_count": 77
        }
      ]
    },
    {
      "cell_type": "markdown",
      "source": [
        "Falls die Seite hier eine Fehlermeldung anzeigt ist das nicht weiter schlimm."
      ],
      "metadata": {
        "id": "n0F2St3EAhYk"
      }
    }
  ]
}