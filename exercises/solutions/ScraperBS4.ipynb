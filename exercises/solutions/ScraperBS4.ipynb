{
  "nbformat": 4,
  "nbformat_minor": 0,
  "metadata": {
    "colab": {
      "provenance": [],
      "authorship_tag": "ABX9TyMFnGS+8/hS/k6iSAk8/2L3",
      "include_colab_link": true
    },
    "kernelspec": {
      "name": "python3",
      "display_name": "Python 3"
    },
    "language_info": {
      "name": "python"
    }
  },
  "cells": [
    {
      "cell_type": "markdown",
      "metadata": {
        "id": "view-in-github",
        "colab_type": "text"
      },
      "source": [
        "<a href=\"https://colab.research.google.com/github/redadmiral/python-for-journalists/blob/main/exercises/solutions/ScraperBS4.ipynb\" target=\"_parent\"><img src=\"https://colab.research.google.com/assets/colab-badge.svg\" alt=\"Open In Colab\"/></a>"
      ]
    },
    {
      "cell_type": "markdown",
      "source": [
        "# Übung Scraper mit Beautiful Soup\n",
        "\n",
        "1. Importiere die requests Bibliothek und die BeautifulSoup Klasse aus bs4"
      ],
      "metadata": {
        "id": "TEpIBNaaIiLH"
      }
    },
    {
      "cell_type": "code",
      "source": [
        "import requests\n",
        "from bs4 import BeautifulSoup"
      ],
      "metadata": {
        "id": "TzMLU9P_3jIe"
      },
      "execution_count": 1,
      "outputs": []
    },
    {
      "cell_type": "markdown",
      "source": [
        "2. Lade die Seite http://api.marco-lehner.de/get_html?number=0&multiplier=15 mit einem get-Request herunter und speichere sie in der Variable `response`."
      ],
      "metadata": {
        "id": "g32BqbR13mHG"
      }
    },
    {
      "cell_type": "code",
      "source": [
        "url = \"http://api.marco-lehner.de/get_html?number=0&multiplier=15\"\n",
        "response = requests.get(url)"
      ],
      "metadata": {
        "id": "Cz8EC_zs3mtW"
      },
      "execution_count": 2,
      "outputs": []
    },
    {
      "cell_type": "code",
      "source": [
        "assert response.status_code == 200"
      ],
      "metadata": {
        "id": "um6JdXxU38O8"
      },
      "execution_count": 3,
      "outputs": []
    },
    {
      "cell_type": "markdown",
      "source": [
        "2.1 Decodiere `response` und übergib es der `BeautifulSoup` Klasse. Speichere das Ergebnis in der Variable `soup`."
      ],
      "metadata": {
        "id": "Y6AkdqH63-9Y"
      }
    },
    {
      "cell_type": "code",
      "source": [
        "soup = BeautifulSoup(response.content.decode())"
      ],
      "metadata": {
        "colab": {
          "base_uri": "https://localhost:8080/"
        },
        "id": "cV1J8G6v4M6B",
        "outputId": "aa633a43-95e1-4c33-fe59-cdaddd2564dd"
      },
      "execution_count": 5,
      "outputs": [
        {
          "output_type": "execute_result",
          "data": {
            "text/plain": [
              "23"
            ]
          },
          "metadata": {},
          "execution_count": 5
        }
      ]
    },
    {
      "cell_type": "code",
      "source": [
        "assert len(soup.text) == 23"
      ],
      "metadata": {
        "id": "CtFasw1D4YAu"
      },
      "execution_count": 6,
      "outputs": []
    },
    {
      "cell_type": "markdown",
      "source": [
        "2.2 Wähle die Überschrift mit der `find`-Methode aus und speichere den Text in der Variable `heading`."
      ],
      "metadata": {
        "id": "CB3N6c5Z4abi"
      }
    },
    {
      "cell_type": "code",
      "source": [
        "heading = soup.find(\"h1\").text"
      ],
      "metadata": {
        "id": "aKajMS184nlP"
      },
      "execution_count": 8,
      "outputs": []
    },
    {
      "cell_type": "code",
      "source": [
        "assert heading[-1] == \"t\"\n",
        "assert len(heading) == 6"
      ],
      "metadata": {
        "id": "wV3hJAGK4nn3"
      },
      "execution_count": 10,
      "outputs": []
    },
    {
      "cell_type": "markdown",
      "source": [
        "2.3 Welche Methode würdest du wählen, wenn es mehr als eine `<h1>`-Überschrift gibt?"
      ],
      "metadata": {
        "id": "uq_ahAFo4_Lw"
      }
    },
    {
      "cell_type": "markdown",
      "source": [],
      "metadata": {
        "id": "CZNUMA1e5GxC"
      }
    },
    {
      "cell_type": "markdown",
      "source": [
        "3.1 Speichere die Seite https://de.wikipedia.org/wiki/Hyper_Text_Coffee_Pot_Control_Protocol als BeautifulSoup-Objekt in der Variable `soup`."
      ],
      "metadata": {
        "id": "TIn-EtPO5Gzv"
      }
    },
    {
      "cell_type": "code",
      "source": [
        "response = requests.get(\"https://de.wikipedia.org/wiki/Hyper_Text_Coffee_Pot_Control_Protocol\").content.decode()\n",
        "soup = BeautifulSoup(response)"
      ],
      "metadata": {
        "id": "isSOKnnH74rR"
      },
      "execution_count": 12,
      "outputs": []
    },
    {
      "cell_type": "code",
      "source": [
        "assert len(soup.find(\"h1\").text) == 38"
      ],
      "metadata": {
        "id": "fr3oS8u58A0x"
      },
      "execution_count": 16,
      "outputs": []
    },
    {
      "cell_type": "markdown",
      "source": [
        "3.2 Wähle nur den rot umrandeten Bereich aus dem Screenshot aus. Benutze die Entwicklerkonsole deines Browsers um das richtige Element im HTML-Dokument zu finden."
      ],
      "metadata": {
        "id": "z_so8uSR745a"
      }
    },
    {
      "cell_type": "code",
      "source": [
        "content = soup.find(\"div\", {\"id\": \"content\"})"
      ],
      "metadata": {
        "colab": {
          "base_uri": "https://localhost:8080/"
        },
        "id": "xYsIFbDF9sD8",
        "outputId": "effa0b6f-d8d6-4e17-8473-340d4bf6c22a"
      },
      "execution_count": 34,
      "outputs": [
        {
          "output_type": "execute_result",
          "data": {
            "text/plain": [
              "1"
            ]
          },
          "metadata": {},
          "execution_count": 34
        }
      ]
    },
    {
      "cell_type": "code",
      "source": [
        "assert len(content.contents[9].contents[13].contents)"
      ],
      "metadata": {
        "id": "n-KHaoOa-tIT"
      },
      "execution_count": 47,
      "outputs": []
    },
    {
      "cell_type": "markdown",
      "source": [
        "3.3 Extrahiere alle Links mithilfe der `findAll`-Methode. Speichere interne Links (die auf andere Seiten der Wikipedia verweisen) in einer Liste `internal` und externe Links in eine Liste `external`. Verweise auf die gleiche Seite sollen nicht in der Liste landen.\n",
        "\n",
        "Wenn du einen KeyError bekommen solltest, fange den Error mit einem `try`-`except`-clause."
      ],
      "metadata": {
        "id": "a36NXi3b_ZDP"
      }
    },
    {
      "cell_type": "code",
      "source": [
        "internal = []\n",
        "external = []\n",
        "\n",
        "links = content.findAll(\"a\")\n",
        "\n",
        "for link in links:\n",
        "  try:\n",
        "    url = link[\"href\"]\n",
        "  except KeyError:\n",
        "    continue\n",
        "\n",
        "  if url.startswith(\"http\"):\n",
        "    external.append(url)\n",
        "  elif url.startswith(\"/wiki\"):\n",
        "    internal.append(url)\n",
        "  else:\n",
        "    continue\n",
        "\n",
        "print(len(internal))\n",
        "print(len(external))"
      ],
      "metadata": {
        "colab": {
          "base_uri": "https://localhost:8080/"
        },
        "id": "j1V8PpoA_mby",
        "outputId": "69ebcf1a-b8e5-44b0-ee60-9ffb1d8dd626"
      },
      "execution_count": 54,
      "outputs": [
        {
          "output_type": "stream",
          "name": "stdout",
          "text": [
            "19\n",
            "12\n"
          ]
        }
      ]
    },
    {
      "cell_type": "code",
      "source": [
        "assert len(internal) == 19\n",
        "assert len(external) == 12"
      ],
      "metadata": {
        "id": "n-eyV7nzAgbt"
      },
      "execution_count": 55,
      "outputs": []
    },
    {
      "cell_type": "markdown",
      "source": [
        "3.4 Besuche alle Internen Links und hole dir die \\<h1> Überschrift der Seite. Speichere sie in der variable `headings`."
      ],
      "metadata": {
        "id": "VMTdi_HU9maa"
      }
    },
    {
      "cell_type": "code",
      "source": [
        "from time import sleep\n",
        "\n",
        "headings = []\n",
        "\n",
        "for link in internal:\n",
        "  response = requests.get(\"https://de.wikipedia.org/\" + link)\n",
        "  soup = BeautifulSoup(response.content.decode())\n",
        "  heading = soup.find(\"h1\").text\n",
        "\n",
        "  print(heading)\n",
        "  headings.append(heading)\n",
        "  sleep(1)"
      ],
      "metadata": {
        "colab": {
          "base_uri": "https://localhost:8080/"
        },
        "id": "iSBaZH7eEqzE",
        "outputId": "d6e6befc-d033-40dd-cc20-375e678d34c0"
      },
      "execution_count": 59,
      "outputs": [
        {
          "output_type": "stream",
          "name": "stdout",
          "text": [
            "Netzwerkprotokoll\n",
            "Request for Comments\n",
            "Aprilscherz\n",
            "Emacs\n",
            "Mozilla\n",
            "Hypertext Transfer Protocol\n",
            "Uniform Resource Identifier\n",
            "Kaffee\n",
            "Milch\n",
            "Internet der Dinge\n",
            "Request for Comments\n",
            "Request for Comments\n",
            "Request for Comments\n",
            "Wikipedia:Kategorien\n",
            "Kategorie:Internet-Anwendungsprotokoll\n",
            "Kategorie:HTTP\n",
            "Kategorie:Netzkultur\n",
            "Kategorie:Aprilscherz\n",
            "Kategorie:Wissenschaftlicher Witz\n"
          ]
        }
      ]
    },
    {
      "cell_type": "code",
      "source": [
        "assert len(headings) == 19\n",
        "assert headings[-1] == \"Kategorie:Wissenschaftlicher Witz\""
      ],
      "metadata": {
        "id": "JlnPQRFTFP44"
      },
      "execution_count": 62,
      "outputs": []
    }
  ]
}