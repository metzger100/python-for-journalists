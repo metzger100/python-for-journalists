{
  "nbformat": 4,
  "nbformat_minor": 0,
  "metadata": {
    "colab": {
      "provenance": [],
      "authorship_tag": "ABX9TyOvuO7iUMT7pbdpg3qRjt+2",
      "include_colab_link": true
    },
    "kernelspec": {
      "name": "python3",
      "display_name": "Python 3"
    },
    "language_info": {
      "name": "python"
    }
  },
  "cells": [
    {
      "cell_type": "markdown",
      "metadata": {
        "id": "view-in-github",
        "colab_type": "text"
      },
      "source": [
        "<a href=\"https://colab.research.google.com/github/redadmiral/python-for-journalists/blob/main/exercises/ProbeklausurFahrradMUC.ipynb\" target=\"_parent\"><img src=\"https://colab.research.google.com/assets/colab-badge.svg\" alt=\"Open In Colab\"/></a>"
      ]
    },
    {
      "cell_type": "markdown",
      "source": [
        "# Datenanalyse\n",
        "\n",
        "Unter der URL https://opendata.muenchen.de/dataset/022a11ff-4dcb-4f03-b7dd-a6c94a094587/resource/e65e0e26-ce1f-4e58-9260-beccac196e75/download/rad_2022_15min_export_04_02_23_r.csv stellt die Stadt München einen Datensatz mit Messdaten der Fahrradzähler in der Stadt zur Verfügung.\n",
        "\n",
        "Eine kurze Beschreibung des Datensatzes findest du hier: https://opendata.muenchen.de/dataset/daten-der-raddauerzaehlstellen-muenchen-jahreszahlen/resource/e65e0e26-ce1f-4e58-9260-beccac196e75\n",
        "\n",
        "## 1.1 Exploration\n",
        "\n",
        "Lade den Datensatz in eine Variable und beschreibe die Struktur des Datensatzes in eigenen Worten. Gehe dabei auf die Bedeutung der Spalten auf und führe kurz aus, was der Datensatz abbildet. Belege deine Aussagen soweit möglich indem du das Ergebnis mit `pandas` aus dem Datensatz selbst ziehst."
      ],
      "metadata": {
        "id": "Mvr0Vf2STQzl"
      }
    },
    {
      "cell_type": "code",
      "execution_count": null,
      "metadata": {
        "id": "Kmoh4bPfu_i1"
      },
      "outputs": [],
      "source": []
    },
    {
      "cell_type": "markdown",
      "source": [],
      "metadata": {
        "id": "thC25Cw5X0nm"
      }
    },
    {
      "cell_type": "markdown",
      "source": [
        "Der Datensatz zeigt wie viele Radfahrer\\*innen in 15 Minuten-Intervallen eine der insgesamt 6 Messstationen in München passiert haben. Der Datensatz hat 210.240 Einträge, die sich auf die sechs Messstationen 'Arnulf', 'Kreuther', 'Olympia', 'Hirsch', 'Margareten', 'Erhardt' aufteilen.\n",
        "\n",
        "Die Spalten uhrzeit_start und uhrzeit_ende bezeichnen Start und Ende eines Messintervalls, zaehlstelle den Namen der Messstation. richtung_1 und richtung_2 geben die Fahrtrichtung der Radfahrenden an, gesamt die Summe aus richtung_1 und richtung_2"
      ],
      "metadata": {
        "id": "s3XGkgG1hHnV"
      }
    },
    {
      "cell_type": "markdown",
      "source": [
        "## 1.2 Rush Hour\n",
        "\n",
        "Was ist die maximale Zahl an Radfahrern (egal in welche Richtung), die eine Messstation in einem Messintervall erfasst hat?"
      ],
      "metadata": {
        "id": "2hqKNi4rivFP"
      }
    },
    {
      "cell_type": "code",
      "source": [],
      "metadata": {
        "id": "F6mZLVr1j5s5"
      },
      "execution_count": null,
      "outputs": []
    },
    {
      "cell_type": "markdown",
      "source": [
        "## 1.3 Aktivste Station\n",
        "\n",
        "Welche Station hat über das gesamte Jahr 2022 die meisten Fahrräder gemessen? Wie viele Fahrräder waren das?"
      ],
      "metadata": {
        "id": "YjuyOaaxkI33"
      }
    },
    {
      "cell_type": "code",
      "source": [],
      "metadata": {
        "id": "OLiDPXOrvIdN"
      },
      "execution_count": null,
      "outputs": []
    },
    {
      "cell_type": "markdown",
      "source": [
        "## 1.4 Jahresüberblick\n",
        "\n",
        "Erstelle ein Liniendiagramm mit Datawrapper aus dem die Gesamtzahl der Fahrräder nach Station und Tag ablesbar ist.\n",
        "\n",
        "Gib der Grafik einen sinnvollen Titel und fülle alle Quellen aus. Kopiere den Link zur veröffentlichten (!) Grafik in das Feld unten und füge einen Screenshot der Grafik mit ein."
      ],
      "metadata": {
        "id": "HkNd2aAEkX0n"
      }
    },
    {
      "cell_type": "markdown",
      "source": [],
      "metadata": {
        "id": "L7WVxoOLX5Om"
      }
    },
    {
      "cell_type": "code",
      "source": [],
      "metadata": {
        "id": "6pwgAksE952c"
      },
      "execution_count": null,
      "outputs": []
    },
    {
      "cell_type": "markdown",
      "source": [
        "## 1.5 Stonks\n",
        "\n",
        "Der Graph sieht sehr zittrig und unübersichtlich aus. Wie kannst du den Datensatz aggregieren, um ihn besser lesbar zu machen?\n",
        "\n",
        "Beschreibe deine Idee in eigenen Worten, du musst sie nicht implementieren, auch wenn das natürlich eine gute Übung ist."
      ],
      "metadata": {
        "id": "_OUK6Er8mL44"
      }
    },
    {
      "cell_type": "markdown",
      "source": [],
      "metadata": {
        "id": "aEsq6Cr1mXYB"
      }
    },
    {
      "cell_type": "code",
      "source": [],
      "metadata": {
        "id": "pkO_Q8j2BYuU"
      },
      "execution_count": null,
      "outputs": []
    },
    {
      "cell_type": "markdown",
      "source": [
        "# Scraper\n",
        "\n",
        "Auf der Seite https://www.km.bayern.de/eltern/schulsuche.html?s=&t=9999&r=9999&o=9999&u=0&m=3&seite=1 stellt das bayerische Kultusministerium eine Suchfunktion bereit, um nach Schulen zu suchen.\n",
        "\n",
        "Scrape die ersten drei Seiten der Suche und extrahiere alle Adressen der Schulen. Speichere diese als Strings ohne HTML-Fragmente in einer Liste ab."
      ],
      "metadata": {
        "id": "n7ubyIAuTOT2"
      }
    },
    {
      "cell_type": "code",
      "source": [],
      "metadata": {
        "id": "Jeds-l0FSkKL"
      },
      "execution_count": null,
      "outputs": []
    }
  ]
}