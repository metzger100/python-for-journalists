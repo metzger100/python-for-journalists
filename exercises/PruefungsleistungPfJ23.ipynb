{
  "nbformat": 4,
  "nbformat_minor": 0,
  "metadata": {
    "colab": {
      "provenance": [],
      "authorship_tag": "ABX9TyPtkaLykjhjvLRKWve9y9s5",
      "include_colab_link": true
    },
    "kernelspec": {
      "name": "python3",
      "display_name": "Python 3"
    },
    "language_info": {
      "name": "python"
    }
  },
  "cells": [
    {
      "cell_type": "markdown",
      "metadata": {
        "id": "view-in-github",
        "colab_type": "text"
      },
      "source": [
        "<a href=\"https://colab.research.google.com/github/redadmiral/python-for-journalists/blob/main/exercises/Pr%C3%BCfungsleistungPfJ.ipynb\" target=\"_parent\"><img src=\"https://colab.research.google.com/assets/colab-badge.svg\" alt=\"Open In Colab\"/></a>"
      ]
    },
    {
      "cell_type": "markdown",
      "source": [
        "# Prüfungsleistung Python für Journalist\\*innen\n",
        "\n",
        "Das hier ist die Prüfungsleistung für das Seminar \"Python für Journalist\\*innen\" an der TH Nürnberg im Sommersemester 2023.\n",
        "\n",
        "**Deadline für die Abgabe ist der 07. Juli 2023 um 18:00.**\n",
        "\n",
        "Lade das Notebook für die Abgabe via File/Download als .ipynb Notebook herunter und schicke es als Anhang an marco.lehner@th-nuernberg.de. Vergiss nicht deinen Namen und die Matrikelnummer dazuzuschreiben. Du bekommst eine kurze Bestätigung von mir wenn ich deine Abgabe erhalten habe.\n",
        "\n",
        "Bitte löse die Klausur alleine. Du kannst alle Hilfsmittel verwenden, die du möchtest. Wenn du Code von Dritten übernimmst, kennzeichne das bitte entsprechend in einem Kommentar.\n",
        "\n",
        " ## 1. Exploration\n",
        "\n",
        "Unter der URL https://raw.githubusercontent.com/tursics/schule-quereinsteiger/master/data/quereinsteiger.csv findest du einen Datensatz über den Anteil von Quereinsteiger\\*innen an Berliner Schulen.\n",
        "\n",
        "1.1 Lade den Datensatz mit Pandas. (2 Punkte)"
      ],
      "metadata": {
        "id": "_m6yUqhRJhT8"
      }
    },
    {
      "cell_type": "code",
      "source": [],
      "metadata": {
        "id": "aC_YZv8HE3wp"
      },
      "execution_count": null,
      "outputs": []
    },
    {
      "cell_type": "markdown",
      "source": [
        "1.2 Der Datensatz stammt aus diesem Github-Repo: https://github.com/tursics/schule-quereinsteiger/\n",
        "\n",
        "Was sagen die Spalten `AlleLehrkraefte_2017`, `AlleQ_2017` und `Brennpunktschule-2018` aus?\n",
        "\n",
        "(3 Punkte)"
      ],
      "metadata": {
        "id": "0x_zRX7UKrri"
      }
    },
    {
      "cell_type": "markdown",
      "source": [],
      "metadata": {
        "id": "1Ewv7TnuLnI2"
      }
    },
    {
      "cell_type": "markdown",
      "source": [
        "## 2. Data Cleaning\n",
        "\n",
        "2.1 Beschränke den Datensatz auf die Spalten `BSN`, `Schulname`, `Strasse`, `PLZ`, `Schulart`, `lat`, `lng`,\n",
        "       `AlleLehrkraefte_2017`, `AlleQ_2017`, `Brennpunktschule-2018`.\n",
        "\n",
        "(3 Punkte)"
      ],
      "metadata": {
        "id": "BQ2Cb6cTLoR6"
      }
    },
    {
      "cell_type": "code",
      "source": [],
      "metadata": {
        "id": "i6lnUcLtE2B9"
      },
      "execution_count": null,
      "outputs": []
    },
    {
      "cell_type": "markdown",
      "source": [
        "2.2 Welchen Datentyp hat die Spalte `AlleQ_2017`? Warum ist der Datentyp nicht optimal?\n",
        "\n",
        "(3 Punkte)"
      ],
      "metadata": {
        "id": "ZRmO1HcXMBDN"
      }
    },
    {
      "cell_type": "markdown",
      "source": [],
      "metadata": {
        "id": "lh6VhDoVMTkf"
      }
    },
    {
      "cell_type": "markdown",
      "source": [
        "2.3 Wandle die Spalte `AlleQ_2017` in float um. Gehe sicher, dass die Änderung in die Tabelle zurückgeschrieben wird.\n",
        "\n",
        "Hinweis: `7%` entsprechen `0.07`\n",
        "\n",
        "(6 Punkte)"
      ],
      "metadata": {
        "id": "HgoUevzEMTnD"
      }
    },
    {
      "cell_type": "code",
      "source": [],
      "metadata": {
        "id": "W6oEYB1kE0Tg"
      },
      "execution_count": null,
      "outputs": []
    },
    {
      "cell_type": "markdown",
      "source": [
        "2.4 In der Spalte `Brennpunktschule-2018` sind Schulen, die nicht als Brennpunktschule geführt werden, mit `NaN` (aus dem `numpy` Package) geführt und Brennpunktschulen als `x`. Wandle die Spalte so um, dass sie boolsche Werte enthält.\n",
        "\n",
        "(8 Punkte)"
      ],
      "metadata": {
        "id": "x3ZKdwWRMoBv"
      }
    },
    {
      "cell_type": "code",
      "source": [],
      "metadata": {
        "id": "xZ_-gmooEyhw"
      },
      "execution_count": null,
      "outputs": []
    },
    {
      "cell_type": "markdown",
      "source": [
        "# 3. Data Analysis\n",
        "\n",
        "3.1 Wie hoch ist der Anteil an Quereinsteiger\\*innen nach der Schulart? In welcher Schulart findet man die meisten Quereinsteiger\\*innen?\n",
        "\n",
        "(4 Punkte)"
      ],
      "metadata": {
        "id": "R4_VCNvlNHwm"
      }
    },
    {
      "cell_type": "code",
      "source": [],
      "metadata": {
        "id": "gIqyOnUMEw07"
      },
      "execution_count": null,
      "outputs": []
    },
    {
      "cell_type": "markdown",
      "source": [
        "3.2.1 Berechne wie häufig jede Schulform im Datensatz auftaucht.\n",
        "\n",
        "(2 Punkte)"
      ],
      "metadata": {
        "id": "PZZikPpxNdQU"
      }
    },
    {
      "cell_type": "code",
      "source": [],
      "metadata": {
        "id": "ThJZblXAEvFp"
      },
      "execution_count": null,
      "outputs": []
    },
    {
      "cell_type": "markdown",
      "source": [
        "3.2.2 Welche Zeilen im Ergebnis von 3.1 solltest du in der weiteren Auswertung nicht weiter berücksichtigen? Warum nicht?\n",
        "\n",
        "(3 Punkte)"
      ],
      "metadata": {
        "id": "Aw6KZmirOhhP"
      }
    },
    {
      "cell_type": "markdown",
      "source": [],
      "metadata": {
        "id": "OpWYciEzOnFi"
      }
    },
    {
      "cell_type": "markdown",
      "source": [
        "## 4. Visualisierung\n",
        "\n",
        "Erstelle eine Symbol Map auf Datawrapper, in der der Anteil der Quereinsteiger\\*innen an allen Grundschulen Berlins dargestellt wird. Unterscheide in der Grafik zwischen Brennpunktschulen und Nicht-Brennpunktschulen.\n",
        "\n",
        "Finde eine gute Darstellungsform, so dass alle Schulen übersichtlich dargestellt werden und formuliere hilfreiche Tooltipps, die bei Mouse-Hover erscheinen.\n",
        "\n",
        "Schulen die eine Quereinsteiger-Quote von 0% haben, müssen in der Grafik nicht auftauchen.\n",
        "\n",
        "Gib der Grafik einen sinnvollen Titel und Beschreibung und achte auf die Barrierefreiheit.\n",
        "\n",
        "Publiziere die Grafik und kopiere den Link in das Notebook. Kopiere außerdem ein Bild der Grafik in das Notebook.\n",
        "\n",
        "(15 Punkte)"
      ],
      "metadata": {
        "id": "7VLOroePOnHr"
      }
    },
    {
      "cell_type": "code",
      "source": [],
      "metadata": {
        "id": "ZRc8GWmVErtH"
      },
      "execution_count": null,
      "outputs": []
    },
    {
      "cell_type": "markdown",
      "source": [],
      "metadata": {
        "id": "aGSlGFWNEs-O"
      }
    },
    {
      "cell_type": "markdown",
      "source": [
        "# 5. Scraper\n",
        "\n",
        "Auf der Seite https://www.bildung.berlin.de/Schulverzeichnis/SchulVerzKarte.aspx hat Berlin eine Übersicht über alle Schulen auf einer Karte.\n",
        "\n",
        "Lade die Seite mit requests herunter und besuche fünf Links (z.B. die ersten fünf Links) die auf Schulportrais verweisen. Extrahiere die Adressen der Schulen. Speichere die Adressen und Namen der Schule als Strings ohne HTML-Fragmente in einem geeigneten Datenformat, etwa als Dictionary oder Liste, und gib sie aus.\n",
        "\n",
        "Nutze für das Scraping die Bibliotheken bs4 und requests und setze ein sleep Statement von mindestens einer Sekunde vor jedem Seitenaufruf.\n",
        "\n",
        "**Hinweis**: Requests hat Probleme mit dem SSL-Zertifikat der Seite. Falls die Seite Fehler wirft, setze den Parameter `verify=False` im get-Request. Die dann aufpoppenden Warnungen kannst du ignorieren.\n",
        "\n",
        "(15 Punkte)"
      ],
      "metadata": {
        "id": "mPgnWy840Jz1"
      }
    },
    {
      "cell_type": "code",
      "source": [],
      "metadata": {
        "id": "uzoQwYoEEoNC"
      },
      "execution_count": null,
      "outputs": []
    }
  ]
}