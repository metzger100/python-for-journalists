{
  "nbformat": 4,
  "nbformat_minor": 0,
  "metadata": {
    "colab": {
      "provenance": [],
      "authorship_tag": "ABX9TyM6vdxGkbtaHA0jxmr6CcYG",
      "include_colab_link": true
    },
    "kernelspec": {
      "name": "python3",
      "display_name": "Python 3"
    },
    "language_info": {
      "name": "python"
    }
  },
  "cells": [
    {
      "cell_type": "markdown",
      "metadata": {
        "id": "view-in-github",
        "colab_type": "text"
      },
      "source": [
        "<a href=\"https://colab.research.google.com/github/redadmiral/python-for-journalists/blob/main/exercises/ScraperBS4.ipynb\" target=\"_parent\"><img src=\"https://colab.research.google.com/assets/colab-badge.svg\" alt=\"Open In Colab\"/></a>"
      ]
    },
    {
      "cell_type": "markdown",
      "source": [
        "# Übung Scraper mit Beautiful Soup\n",
        "\n",
        "1. Importiere die requests Bibliothek und die BeautifulSoup Klasse aus bs4"
      ],
      "metadata": {
        "id": "TEpIBNaaIiLH"
      }
    },
    {
      "cell_type": "code",
      "source": [],
      "metadata": {
        "id": "TzMLU9P_3jIe"
      },
      "execution_count": 1,
      "outputs": []
    },
    {
      "cell_type": "markdown",
      "source": [
        "2. Lade die Seite http://api.marco-lehner.de/get_html?number=0&multiplier=15 mit einem get-Request herunter und speichere sie in der Variable `response`."
      ],
      "metadata": {
        "id": "g32BqbR13mHG"
      }
    },
    {
      "cell_type": "code",
      "source": [],
      "metadata": {
        "id": "Cz8EC_zs3mtW"
      },
      "execution_count": 2,
      "outputs": []
    },
    {
      "cell_type": "code",
      "source": [
        "assert response.status_code == 200"
      ],
      "metadata": {
        "id": "um6JdXxU38O8"
      },
      "execution_count": 3,
      "outputs": []
    },
    {
      "cell_type": "markdown",
      "source": [
        "2.1 Decodiere `response` und übergib es der `BeautifulSoup` Klasse. Speichere das Ergebnis in der Variable `soup`."
      ],
      "metadata": {
        "id": "Y6AkdqH63-9Y"
      }
    },
    {
      "cell_type": "code",
      "source": [],
      "metadata": {
        "id": "cV1J8G6v4M6B"
      },
      "execution_count": null,
      "outputs": []
    },
    {
      "cell_type": "code",
      "source": [
        "assert len(soup.text) == 23"
      ],
      "metadata": {
        "id": "CtFasw1D4YAu"
      },
      "execution_count": 6,
      "outputs": []
    },
    {
      "cell_type": "markdown",
      "source": [
        "2.2 Wähle die Überschrift mit der `find`-Methode aus und speichere den Text in der Variable `heading`."
      ],
      "metadata": {
        "id": "CB3N6c5Z4abi"
      }
    },
    {
      "cell_type": "code",
      "source": [],
      "metadata": {
        "id": "aKajMS184nlP"
      },
      "execution_count": 8,
      "outputs": []
    },
    {
      "cell_type": "code",
      "source": [
        "assert heading[-1] == \"t\"\n",
        "assert len(heading) == 6"
      ],
      "metadata": {
        "id": "wV3hJAGK4nn3"
      },
      "execution_count": 10,
      "outputs": []
    },
    {
      "cell_type": "markdown",
      "source": [
        "2.3 Welche Methode würdest du wählen, wenn es mehr als eine `<h1>`-Überschrift gibt?"
      ],
      "metadata": {
        "id": "uq_ahAFo4_Lw"
      }
    },
    {
      "cell_type": "markdown",
      "source": [],
      "metadata": {
        "id": "CZNUMA1e5GxC"
      }
    },
    {
      "cell_type": "markdown",
      "source": [
        "3.1 Speichere die Seite https://de.wikipedia.org/wiki/Hyper_Text_Coffee_Pot_Control_Protocol als BeautifulSoup-Objekt in der Variable `soup`."
      ],
      "metadata": {
        "id": "TIn-EtPO5Gzv"
      }
    },
    {
      "cell_type": "code",
      "source": [],
      "metadata": {
        "id": "isSOKnnH74rR"
      },
      "execution_count": 12,
      "outputs": []
    },
    {
      "cell_type": "code",
      "source": [
        "assert len(soup.find(\"h1\").text) == 38"
      ],
      "metadata": {
        "id": "fr3oS8u58A0x"
      },
      "execution_count": 16,
      "outputs": []
    },
    {
      "cell_type": "markdown",
      "source": [
        "3.2 Wähle nur den rot umrandeten Bereich aus dem Screenshot aus. Benutze die Entwicklerkonsole deines Browsers um das richtige Element im HTML-Dokument zu finden."
      ],
      "metadata": {
        "id": "z_so8uSR745a"
      }
    },
    {
      "cell_type": "code",
      "source": [],
      "metadata": {
        "id": "xYsIFbDF9sD8"
      },
      "execution_count": null,
      "outputs": []
    },
    {
      "cell_type": "code",
      "source": [
        "assert len(content.contents[9].contents[13].contents)"
      ],
      "metadata": {
        "id": "n-KHaoOa-tIT"
      },
      "execution_count": 47,
      "outputs": []
    },
    {
      "cell_type": "markdown",
      "source": [
        "3.3 Extrahiere alle Links mithilfe der `findAll`-Methode. Speichere interne Links (die auf andere Seiten der Wikipedia verweisen) in einer Liste `internal` und externe Links in eine Liste `external`. Verweise auf die gleiche Seite sollen nicht in der Liste landen.\n",
        "\n",
        "Wenn du einen KeyError bekommen solltest, fange den Error mit einem `try`-`except`-clause."
      ],
      "metadata": {
        "id": "a36NXi3b_ZDP"
      }
    },
    {
      "cell_type": "code",
      "source": [],
      "metadata": {
        "id": "j1V8PpoA_mby"
      },
      "execution_count": null,
      "outputs": []
    },
    {
      "cell_type": "code",
      "source": [
        "assert len(internal) == 19\n",
        "assert len(external) == 12"
      ],
      "metadata": {
        "id": "n-eyV7nzAgbt"
      },
      "execution_count": 55,
      "outputs": []
    },
    {
      "cell_type": "markdown",
      "source": [
        "3.4 Besuche alle Internen Links und hole dir die \\<h1> Überschrift der Seite. Speichere sie in der variable `headings`.\n",
        "\n",
        "Lass den Loop pro Iteration eine Sekunde lang schlafen. Nutze dafür die `sleep`-Funktion aus dem `time` Modul."
      ],
      "metadata": {
        "id": "VMTdi_HU9maa"
      }
    },
    {
      "cell_type": "code",
      "source": [],
      "metadata": {
        "id": "iSBaZH7eEqzE"
      },
      "execution_count": null,
      "outputs": []
    },
    {
      "cell_type": "code",
      "source": [
        "assert len(headings) == 19\n",
        "assert headings[-1] == \"Kategorie:Wissenschaftlicher Witz\""
      ],
      "metadata": {
        "id": "JlnPQRFTFP44"
      },
      "execution_count": 62,
      "outputs": []
    }
  ]
}