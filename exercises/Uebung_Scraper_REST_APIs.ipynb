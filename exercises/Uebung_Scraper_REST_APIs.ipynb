{
  "nbformat": 4,
  "nbformat_minor": 0,
  "metadata": {
    "colab": {
      "provenance": [],
      "authorship_tag": "ABX9TyMuRZFK2nvD+7xFtJg2RZAK",
      "include_colab_link": true
    },
    "kernelspec": {
      "name": "python3",
      "display_name": "Python 3"
    },
    "language_info": {
      "name": "python"
    }
  },
  "cells": [
    {
      "cell_type": "markdown",
      "metadata": {
        "id": "view-in-github",
        "colab_type": "text"
      },
      "source": [
        "<a href=\"https://colab.research.google.com/github/redadmiral/python-for-journalists/blob/main/exercises/Uebung_Scraper_REST_APIs.ipynb\" target=\"_parent\"><img src=\"https://colab.research.google.com/assets/colab-badge.svg\" alt=\"Open In Colab\"/></a>"
      ]
    },
    {
      "cell_type": "markdown",
      "source": [
        "# Übung Offene APIs\n",
        "\n",
        "1. Importiere die `requests` Bibliothek."
      ],
      "metadata": {
        "id": "ryyj-H2AAX7N"
      }
    },
    {
      "cell_type": "code",
      "source": [],
      "metadata": {
        "id": "JqQfIdjA_0CI"
      },
      "execution_count": 4,
      "outputs": []
    },
    {
      "cell_type": "markdown",
      "source": [
        "1.1 Führe einen get-Request auf die URL http://api.marco-lehner.de/get_json aus. Die Paramter, die du in der URL oder über `params` spezifizieren kannst, sind `number` und `multiplier`. Setze `number` = 3 und `multiplier` = 5.\n",
        "\n",
        "Speichere das Ergebnis in einer Variable `response`."
      ],
      "metadata": {
        "id": "E1wbtjIoDDqr"
      }
    },
    {
      "cell_type": "code",
      "source": [],
      "metadata": {
        "id": "YvdBpVus_2eu"
      },
      "execution_count": 15,
      "outputs": []
    },
    {
      "cell_type": "code",
      "source": [
        "assert response.status_code == 200"
      ],
      "metadata": {
        "id": "O5x8OiJwCsmM"
      },
      "execution_count": null,
      "outputs": []
    },
    {
      "cell_type": "markdown",
      "source": [
        "1.2 Ließ das Ergebnis aus dem `response` aus, und speichere es als Dictionary in der variable `result`."
      ],
      "metadata": {
        "id": "SgzuMvhQDf5C"
      }
    },
    {
      "cell_type": "code",
      "source": [],
      "metadata": {
        "id": "MjYsNarZAFte"
      },
      "execution_count": 16,
      "outputs": []
    },
    {
      "cell_type": "code",
      "source": [
        "assert list(result.keys())[0][:2] == \"re\""
      ],
      "metadata": {
        "id": "Nddvi43NBHT1"
      },
      "execution_count": 28,
      "outputs": []
    },
    {
      "cell_type": "markdown",
      "source": [
        "2.1 Wiederhole nun das gleiche mit dem Endpunkt http://api.marco-lehner.de/get_html, der HTML zurückgibt. Lass die Werte für die Parameter gleich.\n",
        "\n",
        "Speichere den Rückgabewert der get-Funktion wieder in der Variable `response`."
      ],
      "metadata": {
        "id": "8GywxAXrEVee"
      }
    },
    {
      "cell_type": "code",
      "source": [],
      "metadata": {
        "id": "W0NqYQWNAMWF"
      },
      "execution_count": 19,
      "outputs": []
    },
    {
      "cell_type": "code",
      "source": [
        "assert response.status_code == 200"
      ],
      "metadata": {
        "id": "hJdgqw7BCtrB"
      },
      "execution_count": null,
      "outputs": []
    },
    {
      "cell_type": "markdown",
      "source": [
        "2.2 Greif jetzt auf den content zu, der im `response` gespeichert ist und decodiere ihn vom Bytestring zum String. Speichere das Ergebnis in der Variable `result`."
      ],
      "metadata": {
        "id": "SSKb7XYFEp2o"
      }
    },
    {
      "cell_type": "code",
      "source": [],
      "metadata": {
        "id": "ex2gwgdJAPzO"
      },
      "execution_count": 30,
      "outputs": []
    },
    {
      "cell_type": "code",
      "source": [
        "assert len(result.split(\"<\")) == 5\n",
        "assert \"h1\" in result"
      ],
      "metadata": {
        "id": "R7lpSD8KCNrA"
      },
      "execution_count": 33,
      "outputs": []
    },
    {
      "cell_type": "markdown",
      "source": [
        "3.1 Nun greifen wir auf den POST-Endpunkt http://api.marco-lehner.de/post_json zu. Erstelle dazu ein Dictionary mit den Keys `number` und `multiplier`. Gib ihnen die Werte `number` = 12 und `multiplier` = 4. Speichere das Dictionary in der Variable `payload`."
      ],
      "metadata": {
        "id": "PwEKGIzeFbsL"
      }
    },
    {
      "cell_type": "code",
      "source": [],
      "metadata": {
        "id": "Qpu8X2JnAlSt"
      },
      "execution_count": 36,
      "outputs": []
    },
    {
      "cell_type": "code",
      "source": [
        "assert \"number\" in payload.keys()\n",
        "assert \"multiplier\" in payload.keys()"
      ],
      "metadata": {
        "id": "Wz7tHDzSCehr"
      },
      "execution_count": 37,
      "outputs": []
    },
    {
      "cell_type": "markdown",
      "source": [
        "3.2 Führe jetzt mit `requests` einen POST-Request an die URL durch. Gib der Funktion das oben definierte Dictionary als Payload mit.\n",
        "\n",
        "Speichere das Ergebnis in der Variable `response`."
      ],
      "metadata": {
        "id": "9Fa6ZrJTGMQb"
      }
    },
    {
      "cell_type": "code",
      "source": [],
      "metadata": {
        "id": "83Y0uEgsCcAi"
      },
      "execution_count": 38,
      "outputs": []
    },
    {
      "cell_type": "code",
      "source": [
        "assert response.status_code == 200"
      ],
      "metadata": {
        "id": "z5ZqVi-iCcC0"
      },
      "execution_count": 40,
      "outputs": []
    },
    {
      "cell_type": "markdown",
      "source": [
        "Speichere den Wert, der im zurückgegebenen Dictionary unter `result` gespeichert ist, in der Variable `result`."
      ],
      "metadata": {
        "id": "nmdpIQB8Gb1h"
      }
    },
    {
      "cell_type": "code",
      "source": [],
      "metadata": {
        "id": "B8SmN59lA8pO"
      },
      "execution_count": 46,
      "outputs": []
    },
    {
      "cell_type": "code",
      "source": [
        "assert result == 48"
      ],
      "metadata": {
        "id": "xXECMFukBDW5"
      },
      "execution_count": 47,
      "outputs": []
    },
    {
      "cell_type": "markdown",
      "source": [
        "4. Auf der Seite https://chronikle.org/ereignisse werden verschiedene rechtsextreme Aktivitäten im Leipziger Umland aufgeführt. \n",
        "\n",
        "  4.1 Finde mit den Entwicklertools den API-Call mit dem die Vorfälle vom Server abgerufen werden.\n",
        "\n",
        "  4.2 Kopiere den API-Call im Browser als curl-Kommando.\n",
        "\n",
        "  4.3 Wandele den curl-Call auf https://curlconverter.com/ in Python `requests` Code um.\n",
        "  \n",
        "  4.4 Führe den Code hier aus."
      ],
      "metadata": {
        "id": "N3rEGA0CAXGa"
      }
    },
    {
      "cell_type": "code",
      "execution_count": 50,
      "metadata": {
        "id": "TMFRJSZ79ZqH"
      },
      "outputs": [],
      "source": []
    },
    {
      "cell_type": "code",
      "source": [
        "assert type(response.json()[\"incidents\"]) == list\n",
        "assert len(response.json()[\"incidents\"]) >= 80"
      ],
      "metadata": {
        "id": "CUsN0S_r97_c"
      },
      "execution_count": 56,
      "outputs": []
    }
  ]
}